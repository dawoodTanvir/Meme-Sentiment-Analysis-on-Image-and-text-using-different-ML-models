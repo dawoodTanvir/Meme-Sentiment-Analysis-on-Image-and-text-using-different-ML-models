{
 "cells": [
  {
   "cell_type": "code",
   "execution_count": 1,
   "id": "0be5c634",
   "metadata": {},
   "outputs": [],
   "source": [
    "import pandas as pd\n",
    "import re\n",
    "from sklearn.feature_extraction.text import TfidfVectorizer\n",
    "import nltk\n",
    "from nltk.corpus import stopwords\n",
    "from nltk.tokenize import word_tokenize,sent_tokenize\n",
    "import numpy as np\n",
    "import matplotlib.pyplot as plt\n",
    "from skimage.io import imread, imshow\n",
    "from PIL import Image\n",
    "from PIL import ImageFile\n",
    "import os\n",
    "from os import listdir\n",
    "import glob\n",
    "from sklearn.model_selection import train_test_split\n",
    "import string\n",
    "from nltk.stem import WordNetLemmatizer\n",
    "from cleantext import clean\n",
    "import warnings\n",
    "import pickle\n",
    "import skimage\n",
    "from skimage import filters\n",
    "from skimage import feature\n",
    "from skimage.io import imread, imshow\n",
    "from skimage.feature import hog\n",
    "from sklearn.model_selection import GridSearchCV\n",
    "from sklearn.svm import SVC\n",
    "from sklearn import metrics\n",
    "from sklearn.feature_extraction.text import CountVectorizer\n",
    "from sklearn.metrics import accuracy_score\n",
    "from sklearn.naive_bayes import MultinomialNB\n",
    "from sklearn.naive_bayes import GaussianNB\n",
    "from sklearn.linear_model import LogisticRegression\n",
    "from sklearn.preprocessing import LabelEncoder\n",
    "from skimage.transform import resize\n",
    "import contractions\n",
    "warnings.filterwarnings('ignore')"
   ]
  },
  {
   "cell_type": "code",
   "execution_count": 284,
   "id": "7089f892",
   "metadata": {},
   "outputs": [
    {
     "name": "stdout",
     "output_type": "stream",
     "text": [
      "Requirement already satisfied: contractions in d:\\anaconda\\lib\\site-packages (0.1.73)\n",
      "Requirement already satisfied: textsearch>=0.0.21 in d:\\anaconda\\lib\\site-packages (from contractions) (0.0.24)\n",
      "Requirement already satisfied: anyascii in d:\\anaconda\\lib\\site-packages (from textsearch>=0.0.21->contractions) (0.3.1)\n",
      "Requirement already satisfied: pyahocorasick in d:\\anaconda\\lib\\site-packages (from textsearch>=0.0.21->contractions) (1.4.4)\n"
     ]
    }
   ],
   "source": [
    "#text=clean(text,fix_unicode=True,to_ascii=True,lower=True,no_urls=True,no_numbers=True, no_digits=True,\n",
    " #         no_currency_symbols=True,no_punct=True,replace_with_punct=\"\",replace_with_url=\" \",\n",
    "  #        replace_with_number=\" \", replace_with_digit=\" \",replace_with_currency_symbol=\" \")\n",
    "    \n",
    "   # text=re.sub(r'[^\\w\\s]','',text)\n",
    "!pip install contractions"
   ]
  },
  {
   "cell_type": "code",
   "execution_count": 8,
   "id": "a99ef61d",
   "metadata": {},
   "outputs": [],
   "source": [
    "df=pd.read_csv(r\"E:\\final project\\labels.csv\")"
   ]
  },
  {
   "cell_type": "code",
   "execution_count": 9,
   "id": "b4f032d6",
   "metadata": {},
   "outputs": [],
   "source": [
    "df22=pd.read_csv(r\"E:\\final project\\labels.csv\")\n",
    "save=[]\n",
    "for i in df22['image_name']:\n",
    "    save.append(i)"
   ]
  },
  {
   "cell_type": "code",
   "execution_count": 10,
   "id": "8eab5a5e",
   "metadata": {},
   "outputs": [],
   "source": [
    "n=6991\n",
    "for i in range(0,270):\n",
    "    save.append(\"image_\"+str(n)+\".jpg\")\n",
    "    n+=1"
   ]
  },
  {
   "cell_type": "code",
   "execution_count": 11,
   "id": "e65664f5",
   "metadata": {},
   "outputs": [
    {
     "data": {
      "text/html": [
       "<div>\n",
       "<style scoped>\n",
       "    .dataframe tbody tr th:only-of-type {\n",
       "        vertical-align: middle;\n",
       "    }\n",
       "\n",
       "    .dataframe tbody tr th {\n",
       "        vertical-align: top;\n",
       "    }\n",
       "\n",
       "    .dataframe thead th {\n",
       "        text-align: right;\n",
       "    }\n",
       "</style>\n",
       "<table border=\"1\" class=\"dataframe\">\n",
       "  <thead>\n",
       "    <tr style=\"text-align: right;\">\n",
       "      <th></th>\n",
       "      <th>Unnamed: 0</th>\n",
       "      <th>image_name</th>\n",
       "      <th>text_ocr</th>\n",
       "      <th>text_corrected</th>\n",
       "      <th>overall_sentiment</th>\n",
       "    </tr>\n",
       "  </thead>\n",
       "  <tbody>\n",
       "    <tr>\n",
       "      <th>0</th>\n",
       "      <td>0</td>\n",
       "      <td>image_1.jpg</td>\n",
       "      <td>LOOK THERE MY FRIEND LIGHTYEAR NOW ALL SOHALIK...</td>\n",
       "      <td>LOOK THERE MY FRIEND LIGHTYEAR NOW ALL SOHALIK...</td>\n",
       "      <td>very_positive</td>\n",
       "    </tr>\n",
       "    <tr>\n",
       "      <th>1</th>\n",
       "      <td>1</td>\n",
       "      <td>image_2.jpeg</td>\n",
       "      <td>The best of #10 YearChallenge! Completed in le...</td>\n",
       "      <td>The best of #10 YearChallenge! Completed in le...</td>\n",
       "      <td>very_positive</td>\n",
       "    </tr>\n",
       "    <tr>\n",
       "      <th>2</th>\n",
       "      <td>2</td>\n",
       "      <td>image_3.JPG</td>\n",
       "      <td>Sam Thorne @Strippin ( Follow Follow Saw every...</td>\n",
       "      <td>Sam Thorne @Strippin ( Follow Follow Saw every...</td>\n",
       "      <td>positive</td>\n",
       "    </tr>\n",
       "    <tr>\n",
       "      <th>3</th>\n",
       "      <td>3</td>\n",
       "      <td>image_4.png</td>\n",
       "      <td>10 Year Challenge - Sweet Dee Edition</td>\n",
       "      <td>10 Year Challenge - Sweet Dee Edition</td>\n",
       "      <td>positive</td>\n",
       "    </tr>\n",
       "    <tr>\n",
       "      <th>4</th>\n",
       "      <td>4</td>\n",
       "      <td>image_5.png</td>\n",
       "      <td>10 YEAR CHALLENGE WITH NO FILTER 47 Hilarious ...</td>\n",
       "      <td>10 YEAR CHALLENGE WITH NO FILTER 47 Hilarious ...</td>\n",
       "      <td>neutral</td>\n",
       "    </tr>\n",
       "    <tr>\n",
       "      <th>...</th>\n",
       "      <td>...</td>\n",
       "      <td>...</td>\n",
       "      <td>...</td>\n",
       "      <td>...</td>\n",
       "      <td>...</td>\n",
       "    </tr>\n",
       "    <tr>\n",
       "      <th>6987</th>\n",
       "      <td>6987</td>\n",
       "      <td>image_6988.jpg</td>\n",
       "      <td>Tuesday is Mardi Gras Wednesday is Valentine's...</td>\n",
       "      <td>Tuesday is Mardi Gras Wednesday is Valentine's...</td>\n",
       "      <td>neutral</td>\n",
       "    </tr>\n",
       "    <tr>\n",
       "      <th>6988</th>\n",
       "      <td>6988</td>\n",
       "      <td>image_6989.jpg</td>\n",
       "      <td>MUST WATCH MOVIES OF 2017 ITI Chennai memes MA...</td>\n",
       "      <td>MUST WATCH MOVIES OF 2017 ITI Chennai memes MA...</td>\n",
       "      <td>neutral</td>\n",
       "    </tr>\n",
       "    <tr>\n",
       "      <th>6989</th>\n",
       "      <td>6989</td>\n",
       "      <td>image_6990.png</td>\n",
       "      <td>LESS MORE TALKING PLANNING SODA JUNK FOOD COMP...</td>\n",
       "      <td>LESS MORE TALKING PLANNING SODA JUNK FOOD COMP...</td>\n",
       "      <td>positive</td>\n",
       "    </tr>\n",
       "    <tr>\n",
       "      <th>6990</th>\n",
       "      <td>6990</td>\n",
       "      <td>image_6991.jpg</td>\n",
       "      <td>When I VERY have time is a fantasy No one has ...</td>\n",
       "      <td>When I have time is a fantasy. no one has time...</td>\n",
       "      <td>very_positive</td>\n",
       "    </tr>\n",
       "    <tr>\n",
       "      <th>6991</th>\n",
       "      <td>6991</td>\n",
       "      <td>image_6992.jpg</td>\n",
       "      <td>The starting point for every good idea is \"Wha...</td>\n",
       "      <td>The starting point for every good idea is \"Wha...</td>\n",
       "      <td>positive</td>\n",
       "    </tr>\n",
       "  </tbody>\n",
       "</table>\n",
       "<p>6992 rows × 5 columns</p>\n",
       "</div>"
      ],
      "text/plain": [
       "      Unnamed: 0      image_name  \\\n",
       "0              0     image_1.jpg   \n",
       "1              1    image_2.jpeg   \n",
       "2              2     image_3.JPG   \n",
       "3              3     image_4.png   \n",
       "4              4     image_5.png   \n",
       "...          ...             ...   \n",
       "6987        6987  image_6988.jpg   \n",
       "6988        6988  image_6989.jpg   \n",
       "6989        6989  image_6990.png   \n",
       "6990        6990  image_6991.jpg   \n",
       "6991        6991  image_6992.jpg   \n",
       "\n",
       "                                               text_ocr  \\\n",
       "0     LOOK THERE MY FRIEND LIGHTYEAR NOW ALL SOHALIK...   \n",
       "1     The best of #10 YearChallenge! Completed in le...   \n",
       "2     Sam Thorne @Strippin ( Follow Follow Saw every...   \n",
       "3                 10 Year Challenge - Sweet Dee Edition   \n",
       "4     10 YEAR CHALLENGE WITH NO FILTER 47 Hilarious ...   \n",
       "...                                                 ...   \n",
       "6987  Tuesday is Mardi Gras Wednesday is Valentine's...   \n",
       "6988  MUST WATCH MOVIES OF 2017 ITI Chennai memes MA...   \n",
       "6989  LESS MORE TALKING PLANNING SODA JUNK FOOD COMP...   \n",
       "6990  When I VERY have time is a fantasy No one has ...   \n",
       "6991  The starting point for every good idea is \"Wha...   \n",
       "\n",
       "                                         text_corrected overall_sentiment  \n",
       "0     LOOK THERE MY FRIEND LIGHTYEAR NOW ALL SOHALIK...     very_positive  \n",
       "1     The best of #10 YearChallenge! Completed in le...     very_positive  \n",
       "2     Sam Thorne @Strippin ( Follow Follow Saw every...          positive  \n",
       "3                 10 Year Challenge - Sweet Dee Edition          positive  \n",
       "4     10 YEAR CHALLENGE WITH NO FILTER 47 Hilarious ...           neutral  \n",
       "...                                                 ...               ...  \n",
       "6987  Tuesday is Mardi Gras Wednesday is Valentine's...           neutral  \n",
       "6988  MUST WATCH MOVIES OF 2017 ITI Chennai memes MA...           neutral  \n",
       "6989  LESS MORE TALKING PLANNING SODA JUNK FOOD COMP...          positive  \n",
       "6990  When I have time is a fantasy. no one has time...     very_positive  \n",
       "6991  The starting point for every good idea is \"Wha...          positive  \n",
       "\n",
       "[6992 rows x 5 columns]"
      ]
     },
     "execution_count": 11,
     "metadata": {},
     "output_type": "execute_result"
    }
   ],
   "source": [
    "df"
   ]
  },
  {
   "cell_type": "code",
   "execution_count": 1204,
   "id": "73a80467",
   "metadata": {},
   "outputs": [],
   "source": [
    "OpFile=open(r\"E:\\Downloads\\add (1).pkl\", 'rb')\n",
    "data=pickle.load(OpFile)\n",
    "OpFile.close()"
   ]
  },
  {
   "cell_type": "code",
   "execution_count": 1205,
   "id": "02eec2a9",
   "metadata": {},
   "outputs": [],
   "source": [
    "More=[]\n",
    "\n",
    "for i in range(0,len(data)):\n",
    "    s=str(data[i])\n",
    "    if s[-3]!='0':\n",
    "        More.append(str(data[i]))"
   ]
  },
  {
   "cell_type": "code",
   "execution_count": 1206,
   "id": "e08079eb",
   "metadata": {},
   "outputs": [],
   "source": [
    "txtcor=df['text_corrected'].astype(str)\n"
   ]
  },
  {
   "cell_type": "code",
   "execution_count": 1207,
   "id": "d5e9fe99",
   "metadata": {},
   "outputs": [],
   "source": [
    "img=df['image_name'].astype(str)"
   ]
  },
  {
   "cell_type": "code",
   "execution_count": 1208,
   "id": "dfa424b3",
   "metadata": {},
   "outputs": [],
   "source": [
    "del df['image_name']; del df['Unnamed: 0']; del df['text_ocr']"
   ]
  },
  {
   "cell_type": "code",
   "execution_count": 1210,
   "id": "2937b440",
   "metadata": {},
   "outputs": [],
   "source": [
    "for i in range(0,len(More)):\n",
    "    More[i]=cleaning(More[i])\n",
    "    More[i] =re.sub(r'[^\\w\\s]','',More[i])\n",
    "    More[i]=re.sub('\\s+',' ',More[i])"
   ]
  },
  {
   "cell_type": "code",
   "execution_count": 1209,
   "id": "9810cb48",
   "metadata": {},
   "outputs": [],
   "source": [
    "def cleaning(text):\n",
    "    text=clean(text,no_urls=True,replace_with_url=\"\")\n",
    "    words = word_tokenize(text)\n",
    "    alphaOnly = [word for word in words if word.isalpha()]\n",
    "    Low = [word.lower() for word in alphaOnly]\n",
    "    stWords = set(stopwords.words('english'))\n",
    "    cleanText = [word for word in Low if word not in stWords]\n",
    "    cleanText=\" \".join(cleanText)\n",
    "    \n",
    "    return cleanText"
   ]
  },
  {
   "cell_type": "code",
   "execution_count": 1211,
   "id": "24483ce6",
   "metadata": {},
   "outputs": [],
   "source": [
    "for i in range(0, len(txtcor)):\n",
    "    txtcor[i]=cleaning(txtcor[i])\n",
    "    txtcor[i] =re.sub(r'[^\\w\\s]','',txtcor[i])\n",
    "    txtcor[i]=re.sub('\\s+',' ',txtcor[i])"
   ]
  },
  {
   "cell_type": "code",
   "execution_count": 1213,
   "id": "c4984a94",
   "metadata": {},
   "outputs": [],
   "source": [
    "moreLbl=[]\n",
    "for i in range(0,len(More)):\n",
    "    moreLbl.append('negative')"
   ]
  },
  {
   "cell_type": "code",
   "execution_count": 1214,
   "id": "64b8961f",
   "metadata": {},
   "outputs": [],
   "source": [
    "df['text_corrected']=txtcor"
   ]
  },
  {
   "cell_type": "code",
   "execution_count": 1215,
   "id": "fce71c63",
   "metadata": {},
   "outputs": [],
   "source": [
    "df=df.append(pd.DataFrame({'text_corrected': More, 'overall_sentiment' : moreLbl}),sort=False, ignore_index=True)\n"
   ]
  },
  {
   "cell_type": "code",
   "execution_count": 1151,
   "id": "37a5b6b9",
   "metadata": {},
   "outputs": [],
   "source": [
    "df.to_csv(\"CleanedData.csv\")"
   ]
  },
  {
   "cell_type": "code",
   "execution_count": 1216,
   "id": "ee199014",
   "metadata": {},
   "outputs": [],
   "source": [
    "data=df['text_corrected'].astype(str)"
   ]
  },
  {
   "cell_type": "code",
   "execution_count": 1218,
   "id": "61470805",
   "metadata": {},
   "outputs": [],
   "source": [
    "CleanFile=open(r\"C:\\Users\\hp\\Desktop\\CleanText.pkl\", 'wb')\n",
    "pickle.dump(data,CleanFile)\n",
    "CleanFile.close()    "
   ]
  },
  {
   "cell_type": "code",
   "execution_count": 12,
   "id": "98dfd8f5",
   "metadata": {},
   "outputs": [],
   "source": [
    "OpFile=open(r\"C:\\Users\\hp\\Desktop\\CleanText.pkl\", 'rb')\n",
    "Corr=pickle.load(OpFile)\n",
    "OpFile.close()"
   ]
  },
  {
   "cell_type": "code",
   "execution_count": 13,
   "id": "b2d0b03f",
   "metadata": {},
   "outputs": [
    {
     "data": {
      "text/plain": [
       "6992"
      ]
     },
     "execution_count": 13,
     "metadata": {},
     "output_type": "execute_result"
    }
   ],
   "source": []
  },
  {
   "cell_type": "code",
   "execution_count": 1342,
   "id": "e56811c9",
   "metadata": {},
   "outputs": [],
   "source": [
    "imLbl=[]"
   ]
  },
  {
   "cell_type": "code",
   "execution_count": 3,
   "id": "0da0591a",
   "metadata": {},
   "outputs": [],
   "source": [
    "df3=pd.read_csv(r\"E:\\Downloads\\CleanedNewData.csv\")"
   ]
  },
  {
   "cell_type": "code",
   "execution_count": 4,
   "id": "7ecdc43e",
   "metadata": {},
   "outputs": [
    {
     "data": {
      "text/html": [
       "<div>\n",
       "<style scoped>\n",
       "    .dataframe tbody tr th:only-of-type {\n",
       "        vertical-align: middle;\n",
       "    }\n",
       "\n",
       "    .dataframe tbody tr th {\n",
       "        vertical-align: top;\n",
       "    }\n",
       "\n",
       "    .dataframe thead th {\n",
       "        text-align: right;\n",
       "    }\n",
       "</style>\n",
       "<table border=\"1\" class=\"dataframe\">\n",
       "  <thead>\n",
       "    <tr style=\"text-align: right;\">\n",
       "      <th></th>\n",
       "      <th>Unnamed: 0</th>\n",
       "      <th>text_corrected</th>\n",
       "      <th>overall_sentiment</th>\n",
       "      <th>ImageName</th>\n",
       "    </tr>\n",
       "  </thead>\n",
       "  <tbody>\n",
       "    <tr>\n",
       "      <th>0</th>\n",
       "      <td>0</td>\n",
       "      <td>look friend lightyear sohalikut trend play yea...</td>\n",
       "      <td>very_positive</td>\n",
       "      <td>image_1.jpg</td>\n",
       "    </tr>\n",
       "    <tr>\n",
       "      <th>1</th>\n",
       "      <td>1</td>\n",
       "      <td>best yearchallenge completed less years kudus ...</td>\n",
       "      <td>very_positive</td>\n",
       "      <td>image_2.jpeg</td>\n",
       "    </tr>\n",
       "    <tr>\n",
       "      <th>2</th>\n",
       "      <td>2</td>\n",
       "      <td>sam thorne strippin follow follow saw everyone...</td>\n",
       "      <td>positive</td>\n",
       "      <td>image_3.JPG</td>\n",
       "    </tr>\n",
       "    <tr>\n",
       "      <th>3</th>\n",
       "      <td>3</td>\n",
       "      <td>year challenge sweet dee edition</td>\n",
       "      <td>positive</td>\n",
       "      <td>image_4.png</td>\n",
       "    </tr>\n",
       "    <tr>\n",
       "      <th>4</th>\n",
       "      <td>4</td>\n",
       "      <td>year challenge filter hilarious year challenge...</td>\n",
       "      <td>neutral</td>\n",
       "      <td>image_5.png</td>\n",
       "    </tr>\n",
       "    <tr>\n",
       "      <th>...</th>\n",
       "      <td>...</td>\n",
       "      <td>...</td>\n",
       "      <td>...</td>\n",
       "      <td>...</td>\n",
       "    </tr>\n",
       "    <tr>\n",
       "      <th>7257</th>\n",
       "      <td>7257</td>\n",
       "      <td>dropping acid salvador dali last time</td>\n",
       "      <td>negative</td>\n",
       "      <td>image_7256.jpg</td>\n",
       "    </tr>\n",
       "    <tr>\n",
       "      <th>7258</th>\n",
       "      <td>7258</td>\n",
       "      <td>dad spiderman memes funny spiderman memes</td>\n",
       "      <td>negative</td>\n",
       "      <td>image_7257.jpg</td>\n",
       "    </tr>\n",
       "    <tr>\n",
       "      <th>7259</th>\n",
       "      <td>7259</td>\n",
       "      <td>none</td>\n",
       "      <td>negative</td>\n",
       "      <td>image_7258.jpg</td>\n",
       "    </tr>\n",
       "    <tr>\n",
       "      <th>7260</th>\n",
       "      <td>7260</td>\n",
       "      <td>crush enters room</td>\n",
       "      <td>negative</td>\n",
       "      <td>image_7259.jpg</td>\n",
       "    </tr>\n",
       "    <tr>\n",
       "      <th>7261</th>\n",
       "      <td>7261</td>\n",
       "      <td>know know</td>\n",
       "      <td>negative</td>\n",
       "      <td>image_7260.jpg</td>\n",
       "    </tr>\n",
       "  </tbody>\n",
       "</table>\n",
       "<p>7262 rows × 4 columns</p>\n",
       "</div>"
      ],
      "text/plain": [
       "      Unnamed: 0                                     text_corrected  \\\n",
       "0              0  look friend lightyear sohalikut trend play yea...   \n",
       "1              1  best yearchallenge completed less years kudus ...   \n",
       "2              2  sam thorne strippin follow follow saw everyone...   \n",
       "3              3                   year challenge sweet dee edition   \n",
       "4              4  year challenge filter hilarious year challenge...   \n",
       "...          ...                                                ...   \n",
       "7257        7257              dropping acid salvador dali last time   \n",
       "7258        7258          dad spiderman memes funny spiderman memes   \n",
       "7259        7259                                               none   \n",
       "7260        7260                                  crush enters room   \n",
       "7261        7261                                          know know   \n",
       "\n",
       "     overall_sentiment       ImageName  \n",
       "0        very_positive     image_1.jpg  \n",
       "1        very_positive    image_2.jpeg  \n",
       "2             positive     image_3.JPG  \n",
       "3             positive     image_4.png  \n",
       "4              neutral     image_5.png  \n",
       "...                ...             ...  \n",
       "7257          negative  image_7256.jpg  \n",
       "7258          negative  image_7257.jpg  \n",
       "7259          negative  image_7258.jpg  \n",
       "7260          negative  image_7259.jpg  \n",
       "7261          negative  image_7260.jpg  \n",
       "\n",
       "[7262 rows x 4 columns]"
      ]
     },
     "execution_count": 4,
     "metadata": {},
     "output_type": "execute_result"
    }
   ],
   "source": [
    "df3"
   ]
  },
  {
   "cell_type": "code",
   "execution_count": 5,
   "id": "c8461905",
   "metadata": {},
   "outputs": [
    {
     "data": {
      "text/plain": [
       "7262"
      ]
     },
     "execution_count": 5,
     "metadata": {},
     "output_type": "execute_result"
    }
   ],
   "source": [
    "lbl=df3['overall_sentiment'].astype(str)\n",
    "l={'very_positive':1,'positive':1,'very_negative':-1,'negative':-1, 'neutral':0}\n",
    "y=lbl.map(l)\n",
    "len(y)"
   ]
  },
  {
   "cell_type": "code",
   "execution_count": 6,
   "id": "8cd0d561",
   "metadata": {},
   "outputs": [],
   "source": [
    "Saaf=df3['text_corrected'].astype(str)"
   ]
  },
  {
   "cell_type": "code",
   "execution_count": 7,
   "id": "ac3b4a43",
   "metadata": {},
   "outputs": [],
   "source": [
    "vect=TfidfVectorizer()\n",
    "X=vect.fit_transform(Saaf)"
   ]
  },
  {
   "cell_type": "code",
   "execution_count": 8,
   "id": "cde2688b",
   "metadata": {},
   "outputs": [
    {
     "name": "stdout",
     "output_type": "stream",
     "text": [
      "Shape of X_train =  (5809, 11501)\n",
      "Shape of y_train =  (5809,)\n",
      "Shape of X_test =  (1453, 11501)\n",
      "Shape of y_test =  (1453,)\n"
     ]
    }
   ],
   "source": [
    "X_train, X_test, y_train, y_test =train_test_split(X, y, test_size=0.2, random_state=30,shuffle=True)\n",
    "print('Shape of X_train = ', X_train.shape)\n",
    "print('Shape of y_train = ', y_train.shape)\n",
    "print('Shape of X_test = ', X_test.shape)\n",
    "print('Shape of y_test = ', y_test.shape)"
   ]
  },
  {
   "cell_type": "code",
   "execution_count": 9,
   "id": "3c7d3981",
   "metadata": {},
   "outputs": [],
   "source": [
    "from sklearn import tree\n",
    "clf = tree.DecisionTreeClassifier(criterion='gini')\n",
    "clf = clf.fit(X_train, y_train)"
   ]
  },
  {
   "cell_type": "code",
   "execution_count": 10,
   "id": "3921720a",
   "metadata": {},
   "outputs": [
    {
     "data": {
      "text/plain": [
       "0.503785271851342"
      ]
     },
     "execution_count": 10,
     "metadata": {},
     "output_type": "execute_result"
    }
   ],
   "source": [
    "pred=clf.predict(X_test)\n",
    "#print (pred)\n",
    "clf.score(X_test,y_test)"
   ]
  },
  {
   "cell_type": "code",
   "execution_count": 12,
   "id": "9e5282e4",
   "metadata": {},
   "outputs": [
    {
     "name": "stdout",
     "output_type": "stream",
     "text": [
      "[[ 59  38  76]\n",
      " [ 25 140 262]\n",
      " [ 65 255 533]]\n",
      "Accuracy :  50.3785271851342\n",
      "Report : \n",
      "               precision    recall  f1-score   support\n",
      "\n",
      "          -1       0.40      0.34      0.37       173\n",
      "           0       0.32      0.33      0.33       427\n",
      "           1       0.61      0.62      0.62       853\n",
      "\n",
      "    accuracy                           0.50      1453\n",
      "   macro avg       0.44      0.43      0.44      1453\n",
      "weighted avg       0.50      0.50      0.50      1453\n",
      "\n",
      "F1 Score :  43.67901630117794\n"
     ]
    },
    {
     "data": {
      "text/plain": [
       "0.503785271851342"
      ]
     },
     "execution_count": 12,
     "metadata": {},
     "output_type": "execute_result"
    }
   ],
   "source": [
    "from sklearn.metrics import confusion_matrix\n",
    "from sklearn.metrics import accuracy_score\n",
    "from sklearn.metrics import f1_score\n",
    "from sklearn.metrics import classification_report \n",
    "print(confusion_matrix(y_test,pred))\n",
    "print (\"Accuracy : \" , accuracy_score(y_test,pred)*100)  \n",
    "print(\"Report : \\n\", classification_report(y_test, pred))\n",
    "print(\"F1 Score : \",f1_score(y_test, pred, average='macro')*100)\n",
    "#print (pred)\n",
    "clf.score(X_test,y_test)"
   ]
  },
  {
   "cell_type": "code",
   "execution_count": 13,
   "id": "01c6a648",
   "metadata": {},
   "outputs": [
    {
     "data": {
      "text/plain": [
       "0.5320027529249828"
      ]
     },
     "execution_count": 13,
     "metadata": {},
     "output_type": "execute_result"
    }
   ],
   "source": [
    "from sklearn.neighbors import KNeighborsClassifier\n",
    "clf1=KNeighborsClassifier(n_neighbors=5,weights='distance',algorithm='brute')\n",
    "bal=['ball_tree', 'kd_tree', 'brute']\n",
    "clf1.fit(X_train, y_train)\n",
    "pred=clf1.predict(X_test)\n",
    "clf1.score(X_test,y_test)"
   ]
  },
  {
   "cell_type": "code",
   "execution_count": 14,
   "id": "63a2194c",
   "metadata": {},
   "outputs": [
    {
     "name": "stdout",
     "output_type": "stream",
     "text": [
      "Accuracy :  53.200275292498276\n",
      "Report : \n",
      "               precision    recall  f1-score   support\n",
      "\n",
      "          -1       0.41      0.32      0.36       173\n",
      "           0       0.33      0.27      0.30       427\n",
      "           1       0.62      0.71      0.66       853\n",
      "\n",
      "    accuracy                           0.53      1453\n",
      "   macro avg       0.45      0.43      0.44      1453\n",
      "weighted avg       0.51      0.53      0.52      1453\n",
      "\n",
      "F1 Score :  43.94804241500643\n"
     ]
    }
   ],
   "source": [
    "from sklearn.metrics import confusion_matrix\n",
    "from sklearn.metrics import accuracy_score\n",
    "from sklearn.metrics import f1_score\n",
    "from sklearn.metrics import classification_report \n",
    "print (\"Accuracy : \" , accuracy_score(y_test,pred)*100)  \n",
    "print(\"Report : \\n\", classification_report(y_test, pred))\n",
    "print(\"F1 Score : \",f1_score(y_test, pred, average='macro')*100)"
   ]
  },
  {
   "cell_type": "code",
   "execution_count": 15,
   "id": "4291292f",
   "metadata": {},
   "outputs": [],
   "source": [
    "from sklearn.linear_model import LogisticRegression\n",
    "clf = LogisticRegression(solver='newton-cg', class_weight='balanced').fit(X_train, y_train)\n",
    "pred2=clf.predict(X_test)"
   ]
  },
  {
   "cell_type": "code",
   "execution_count": 16,
   "id": "f97eeef0",
   "metadata": {},
   "outputs": [
    {
     "name": "stdout",
     "output_type": "stream",
     "text": [
      "Accuracy :  48.03854094975912\n",
      "Report : \n",
      "               precision    recall  f1-score   support\n",
      "\n",
      "          -1       0.34      0.41      0.37       173\n",
      "           0       0.32      0.35      0.34       427\n",
      "           1       0.61      0.56      0.58       853\n",
      "\n",
      "    accuracy                           0.48      1453\n",
      "   macro avg       0.43      0.44      0.43      1453\n",
      "weighted avg       0.50      0.48      0.49      1453\n",
      "\n",
      "F1 Score :  43.158987916564065\n"
     ]
    }
   ],
   "source": [
    "from sklearn.metrics import confusion_matrix\n",
    "from sklearn.metrics import accuracy_score\n",
    "from sklearn.metrics import f1_score\n",
    "from sklearn.metrics import classification_report \n",
    "print (\"Accuracy : \" , accuracy_score(y_test,pred2)*100)  \n",
    "print(\"Report : \\n\", classification_report(y_test, pred2))\n",
    "print(\"F1 Score : \",f1_score(y_test, pred2, average='macro')*100)"
   ]
  },
  {
   "cell_type": "code",
   "execution_count": 83,
   "id": "2eb2e3bd",
   "metadata": {},
   "outputs": [],
   "source": [
    "from sklearn.ensemble import VotingClassifier\n",
    "Pkl_Filename=r\"C:\\Users\\hp\\Desktop\\Pickle_DT_Model.pkl\"\n",
    "with open(Pkl_Filename, 'rb') as file:  \n",
    "    DecT = pickle.load(file)\n",
    "    \n",
    "Pkl_Filename=r\"C:\\Users\\hp\\Desktop\\Pickle_KNN_Model.pkl\"\n",
    "with open(Pkl_Filename, 'rb') as file:  \n",
    "    knn = pickle.load(file)\n",
    "    \n",
    "Pkl_Filename=r\"C:\\Users\\hp\\Desktop\\Pickle_LR_Model.pkl\"\n",
    "with open(Pkl_Filename, 'rb') as file:  \n",
    "    lr = pickle.load(file)    "
   ]
  },
  {
   "cell_type": "code",
   "execution_count": 84,
   "id": "b6e659c2",
   "metadata": {},
   "outputs": [],
   "source": [
    "total= VotingClassifier(estimators=[('d',DecT), ('k',knn), ('l',lr)])"
   ]
  },
  {
   "cell_type": "code",
   "execution_count": 85,
   "id": "43bb58bf",
   "metadata": {},
   "outputs": [],
   "source": [
    "total.fit(X_train, y_train)\n",
    "pred = total.predict(X_test)"
   ]
  },
  {
   "cell_type": "code",
   "execution_count": 86,
   "id": "09b04e2a",
   "metadata": {},
   "outputs": [
    {
     "name": "stdout",
     "output_type": "stream",
     "text": [
      "Accuracy :  53.200275292498276\n",
      "Report : \n",
      "               precision    recall  f1-score   support\n",
      "\n",
      "          -1       0.41      0.32      0.36       173\n",
      "           0       0.33      0.27      0.30       427\n",
      "           1       0.62      0.71      0.66       853\n",
      "\n",
      "    accuracy                           0.53      1453\n",
      "   macro avg       0.45      0.43      0.44      1453\n",
      "weighted avg       0.51      0.53      0.52      1453\n",
      "\n",
      "F1 Score :  43.94804241500643\n"
     ]
    }
   ],
   "source": [
    "print (\"Accuracy : \" , accuracy_score(y_test,pred)*100)  \n",
    "print(\"Report : \\n\", classification_report(y_test, pred))\n",
    "print(\"F1 Score : \",f1_score(y_test, pred, average='macro')*100)"
   ]
  },
  {
   "cell_type": "code",
   "execution_count": 2,
   "id": "3f2b46ed",
   "metadata": {},
   "outputs": [],
   "source": [
    "ImageFile.LOAD_TRUNCATED_IMAGES=True"
   ]
  },
  {
   "cell_type": "code",
   "execution_count": 3,
   "id": "126ff08c",
   "metadata": {},
   "outputs": [],
   "source": [
    "newDF=pd.read_csv(r\"E:\\Downloads\\CleanedNewData.csv\")"
   ]
  },
  {
   "cell_type": "code",
   "execution_count": 4,
   "id": "2f9dc7d9",
   "metadata": {},
   "outputs": [
    {
     "data": {
      "text/html": [
       "<div>\n",
       "<style scoped>\n",
       "    .dataframe tbody tr th:only-of-type {\n",
       "        vertical-align: middle;\n",
       "    }\n",
       "\n",
       "    .dataframe tbody tr th {\n",
       "        vertical-align: top;\n",
       "    }\n",
       "\n",
       "    .dataframe thead th {\n",
       "        text-align: right;\n",
       "    }\n",
       "</style>\n",
       "<table border=\"1\" class=\"dataframe\">\n",
       "  <thead>\n",
       "    <tr style=\"text-align: right;\">\n",
       "      <th></th>\n",
       "      <th>Unnamed: 0</th>\n",
       "      <th>text_corrected</th>\n",
       "      <th>overall_sentiment</th>\n",
       "      <th>ImageName</th>\n",
       "    </tr>\n",
       "  </thead>\n",
       "  <tbody>\n",
       "    <tr>\n",
       "      <th>0</th>\n",
       "      <td>0</td>\n",
       "      <td>look friend lightyear sohalikut trend play yea...</td>\n",
       "      <td>very_positive</td>\n",
       "      <td>image_1.jpg</td>\n",
       "    </tr>\n",
       "    <tr>\n",
       "      <th>1</th>\n",
       "      <td>1</td>\n",
       "      <td>best yearchallenge completed less years kudus ...</td>\n",
       "      <td>very_positive</td>\n",
       "      <td>image_2.jpeg</td>\n",
       "    </tr>\n",
       "    <tr>\n",
       "      <th>2</th>\n",
       "      <td>2</td>\n",
       "      <td>sam thorne strippin follow follow saw everyone...</td>\n",
       "      <td>positive</td>\n",
       "      <td>image_3.JPG</td>\n",
       "    </tr>\n",
       "    <tr>\n",
       "      <th>3</th>\n",
       "      <td>3</td>\n",
       "      <td>year challenge sweet dee edition</td>\n",
       "      <td>positive</td>\n",
       "      <td>image_4.png</td>\n",
       "    </tr>\n",
       "    <tr>\n",
       "      <th>4</th>\n",
       "      <td>4</td>\n",
       "      <td>year challenge filter hilarious year challenge...</td>\n",
       "      <td>neutral</td>\n",
       "      <td>image_5.png</td>\n",
       "    </tr>\n",
       "    <tr>\n",
       "      <th>...</th>\n",
       "      <td>...</td>\n",
       "      <td>...</td>\n",
       "      <td>...</td>\n",
       "      <td>...</td>\n",
       "    </tr>\n",
       "    <tr>\n",
       "      <th>7257</th>\n",
       "      <td>7257</td>\n",
       "      <td>dropping acid salvador dali last time</td>\n",
       "      <td>negative</td>\n",
       "      <td>image_7256.jpg</td>\n",
       "    </tr>\n",
       "    <tr>\n",
       "      <th>7258</th>\n",
       "      <td>7258</td>\n",
       "      <td>dad spiderman memes funny spiderman memes</td>\n",
       "      <td>negative</td>\n",
       "      <td>image_7257.jpg</td>\n",
       "    </tr>\n",
       "    <tr>\n",
       "      <th>7259</th>\n",
       "      <td>7259</td>\n",
       "      <td>none</td>\n",
       "      <td>negative</td>\n",
       "      <td>image_7258.jpg</td>\n",
       "    </tr>\n",
       "    <tr>\n",
       "      <th>7260</th>\n",
       "      <td>7260</td>\n",
       "      <td>crush enters room</td>\n",
       "      <td>negative</td>\n",
       "      <td>image_7259.jpg</td>\n",
       "    </tr>\n",
       "    <tr>\n",
       "      <th>7261</th>\n",
       "      <td>7261</td>\n",
       "      <td>know know</td>\n",
       "      <td>negative</td>\n",
       "      <td>image_7260.jpg</td>\n",
       "    </tr>\n",
       "  </tbody>\n",
       "</table>\n",
       "<p>7262 rows × 4 columns</p>\n",
       "</div>"
      ],
      "text/plain": [
       "      Unnamed: 0                                     text_corrected  \\\n",
       "0              0  look friend lightyear sohalikut trend play yea...   \n",
       "1              1  best yearchallenge completed less years kudus ...   \n",
       "2              2  sam thorne strippin follow follow saw everyone...   \n",
       "3              3                   year challenge sweet dee edition   \n",
       "4              4  year challenge filter hilarious year challenge...   \n",
       "...          ...                                                ...   \n",
       "7257        7257              dropping acid salvador dali last time   \n",
       "7258        7258          dad spiderman memes funny spiderman memes   \n",
       "7259        7259                                               none   \n",
       "7260        7260                                  crush enters room   \n",
       "7261        7261                                          know know   \n",
       "\n",
       "     overall_sentiment       ImageName  \n",
       "0        very_positive     image_1.jpg  \n",
       "1        very_positive    image_2.jpeg  \n",
       "2             positive     image_3.JPG  \n",
       "3             positive     image_4.png  \n",
       "4              neutral     image_5.png  \n",
       "...                ...             ...  \n",
       "7257          negative  image_7256.jpg  \n",
       "7258          negative  image_7257.jpg  \n",
       "7259          negative  image_7258.jpg  \n",
       "7260          negative  image_7259.jpg  \n",
       "7261          negative  image_7260.jpg  \n",
       "\n",
       "[7262 rows x 4 columns]"
      ]
     },
     "execution_count": 4,
     "metadata": {},
     "output_type": "execute_result"
    }
   ],
   "source": [
    "newDF"
   ]
  },
  {
   "cell_type": "code",
   "execution_count": 103,
   "id": "77d7d1cb",
   "metadata": {},
   "outputs": [],
   "source": [
    "path=(r\"E:\\final project\\images\\\\\")\n",
    "im=os.listdir(path)\n",
    "pics=[]\n",
    "count=0\n",
    "\n",
    "for i in im:\n",
    "     a=imread(path+i, as_gray=True)\n",
    "     a=resize(a,(150,150))\n",
    "     a=feature.canny(a)\n",
    "     a=list(a.flatten())\n",
    "     pics.append(a)"
   ]
  },
  {
   "cell_type": "code",
   "execution_count": null,
   "id": "9cd180ff",
   "metadata": {},
   "outputs": [],
   "source": []
  },
  {
   "cell_type": "code",
   "execution_count": 105,
   "id": "50e509b4",
   "metadata": {},
   "outputs": [],
   "source": [
    "names=[]\n",
    "for i in im:\n",
    "    names.append(i)"
   ]
  },
  {
   "cell_type": "code",
   "execution_count": 106,
   "id": "7935cf85",
   "metadata": {},
   "outputs": [
    {
     "data": {
      "text/plain": [
       "'image_1000.png'"
      ]
     },
     "execution_count": 106,
     "metadata": {},
     "output_type": "execute_result"
    }
   ],
   "source": [
    "names[3]"
   ]
  },
  {
   "cell_type": "code",
   "execution_count": 136,
   "id": "9b22ee74",
   "metadata": {},
   "outputs": [],
   "source": [
    "Open=open(r\"E:\\GrayImages.pkl\", 'wb')\n",
    "pickle.dump(pics,Open)\n",
    "Open.close()"
   ]
  },
  {
   "cell_type": "code",
   "execution_count": 137,
   "id": "b90791d7",
   "metadata": {},
   "outputs": [],
   "source": [
    "Open=open(r\"E:\\GrayImages.pkl\", 'rb')\n",
    "images=pickle.load(Open)\n",
    "Open.close()"
   ]
  },
  {
   "cell_type": "code",
   "execution_count": null,
   "id": "b5817ac3",
   "metadata": {},
   "outputs": [],
   "source": []
  },
  {
   "cell_type": "code",
   "execution_count": 138,
   "id": "06061686",
   "metadata": {},
   "outputs": [
    {
     "data": {
      "text/html": [
       "<div>\n",
       "<style scoped>\n",
       "    .dataframe tbody tr th:only-of-type {\n",
       "        vertical-align: middle;\n",
       "    }\n",
       "\n",
       "    .dataframe tbody tr th {\n",
       "        vertical-align: top;\n",
       "    }\n",
       "\n",
       "    .dataframe thead th {\n",
       "        text-align: right;\n",
       "    }\n",
       "</style>\n",
       "<table border=\"1\" class=\"dataframe\">\n",
       "  <thead>\n",
       "    <tr style=\"text-align: right;\">\n",
       "      <th></th>\n",
       "      <th>Name</th>\n",
       "      <th>Arrays</th>\n",
       "    </tr>\n",
       "  </thead>\n",
       "  <tbody>\n",
       "    <tr>\n",
       "      <th>0</th>\n",
       "      <td>image_1.jpg</td>\n",
       "      <td>[False, False, False, False, False, False, Fal...</td>\n",
       "    </tr>\n",
       "    <tr>\n",
       "      <th>1</th>\n",
       "      <td>image_10.png</td>\n",
       "      <td>[False, False, False, False, False, False, Fal...</td>\n",
       "    </tr>\n",
       "    <tr>\n",
       "      <th>2</th>\n",
       "      <td>image_100.jpg</td>\n",
       "      <td>[False, False, False, False, False, False, Fal...</td>\n",
       "    </tr>\n",
       "    <tr>\n",
       "      <th>3</th>\n",
       "      <td>image_1000.png</td>\n",
       "      <td>[False, False, False, False, False, False, Fal...</td>\n",
       "    </tr>\n",
       "    <tr>\n",
       "      <th>4</th>\n",
       "      <td>image_1001.png</td>\n",
       "      <td>[False, False, False, False, False, False, Fal...</td>\n",
       "    </tr>\n",
       "    <tr>\n",
       "      <th>...</th>\n",
       "      <td>...</td>\n",
       "      <td>...</td>\n",
       "    </tr>\n",
       "    <tr>\n",
       "      <th>6987</th>\n",
       "      <td>image_995.jpeg</td>\n",
       "      <td>[False, False, False, False, False, False, Fal...</td>\n",
       "    </tr>\n",
       "    <tr>\n",
       "      <th>6988</th>\n",
       "      <td>image_996.jpg</td>\n",
       "      <td>[False, False, False, False, False, False, Fal...</td>\n",
       "    </tr>\n",
       "    <tr>\n",
       "      <th>6989</th>\n",
       "      <td>image_997.jpg</td>\n",
       "      <td>[False, False, False, False, False, False, Fal...</td>\n",
       "    </tr>\n",
       "    <tr>\n",
       "      <th>6990</th>\n",
       "      <td>image_998.jpg</td>\n",
       "      <td>[False, False, False, False, False, False, Fal...</td>\n",
       "    </tr>\n",
       "    <tr>\n",
       "      <th>6991</th>\n",
       "      <td>image_999.png</td>\n",
       "      <td>[False, False, False, False, False, False, Fal...</td>\n",
       "    </tr>\n",
       "  </tbody>\n",
       "</table>\n",
       "<p>6992 rows × 2 columns</p>\n",
       "</div>"
      ],
      "text/plain": [
       "                Name                                             Arrays\n",
       "0        image_1.jpg  [False, False, False, False, False, False, Fal...\n",
       "1       image_10.png  [False, False, False, False, False, False, Fal...\n",
       "2      image_100.jpg  [False, False, False, False, False, False, Fal...\n",
       "3     image_1000.png  [False, False, False, False, False, False, Fal...\n",
       "4     image_1001.png  [False, False, False, False, False, False, Fal...\n",
       "...              ...                                                ...\n",
       "6987  image_995.jpeg  [False, False, False, False, False, False, Fal...\n",
       "6988   image_996.jpg  [False, False, False, False, False, False, Fal...\n",
       "6989   image_997.jpg  [False, False, False, False, False, False, Fal...\n",
       "6990   image_998.jpg  [False, False, False, False, False, False, Fal...\n",
       "6991   image_999.png  [False, False, False, False, False, False, Fal...\n",
       "\n",
       "[6992 rows x 2 columns]"
      ]
     },
     "execution_count": 138,
     "metadata": {},
     "output_type": "execute_result"
    }
   ],
   "source": [
    "dfImg=pd.DataFrame()\n",
    "dfImg.insert(0,'Name',names)\n",
    "dfImg.insert(1,'Arrays',images)\n",
    "dfImg"
   ]
  },
  {
   "cell_type": "code",
   "execution_count": 139,
   "id": "ca7d394d",
   "metadata": {},
   "outputs": [
    {
     "data": {
      "text/html": [
       "<div>\n",
       "<style scoped>\n",
       "    .dataframe tbody tr th:only-of-type {\n",
       "        vertical-align: middle;\n",
       "    }\n",
       "\n",
       "    .dataframe tbody tr th {\n",
       "        vertical-align: top;\n",
       "    }\n",
       "\n",
       "    .dataframe thead th {\n",
       "        text-align: right;\n",
       "    }\n",
       "</style>\n",
       "<table border=\"1\" class=\"dataframe\">\n",
       "  <thead>\n",
       "    <tr style=\"text-align: right;\">\n",
       "      <th></th>\n",
       "      <th>Name</th>\n",
       "      <th>Arrays</th>\n",
       "    </tr>\n",
       "  </thead>\n",
       "  <tbody>\n",
       "    <tr>\n",
       "      <th>0</th>\n",
       "      <td>image_1.jpg</td>\n",
       "      <td>[False, False, False, False, False, False, Fal...</td>\n",
       "    </tr>\n",
       "    <tr>\n",
       "      <th>1111</th>\n",
       "      <td>image_2.jpeg</td>\n",
       "      <td>[False, False, False, False, False, False, Fal...</td>\n",
       "    </tr>\n",
       "    <tr>\n",
       "      <th>2222</th>\n",
       "      <td>image_3.JPG</td>\n",
       "      <td>[False, False, False, False, False, False, Fal...</td>\n",
       "    </tr>\n",
       "    <tr>\n",
       "      <th>3333</th>\n",
       "      <td>image_4.png</td>\n",
       "      <td>[False, False, False, False, False, False, Fal...</td>\n",
       "    </tr>\n",
       "    <tr>\n",
       "      <th>4444</th>\n",
       "      <td>image_5.png</td>\n",
       "      <td>[False, False, False, False, False, False, Fal...</td>\n",
       "    </tr>\n",
       "    <tr>\n",
       "      <th>...</th>\n",
       "      <td>...</td>\n",
       "      <td>...</td>\n",
       "    </tr>\n",
       "    <tr>\n",
       "      <th>6653</th>\n",
       "      <td>image_6988.jpg</td>\n",
       "      <td>[False, False, False, False, False, False, Fal...</td>\n",
       "    </tr>\n",
       "    <tr>\n",
       "      <th>6654</th>\n",
       "      <td>image_6989.jpg</td>\n",
       "      <td>[False, False, False, False, False, False, Fal...</td>\n",
       "    </tr>\n",
       "    <tr>\n",
       "      <th>6656</th>\n",
       "      <td>image_6990.png</td>\n",
       "      <td>[False, False, False, False, False, False, Fal...</td>\n",
       "    </tr>\n",
       "    <tr>\n",
       "      <th>6657</th>\n",
       "      <td>image_6991.jpg</td>\n",
       "      <td>[False, False, False, False, False, False, Fal...</td>\n",
       "    </tr>\n",
       "    <tr>\n",
       "      <th>6658</th>\n",
       "      <td>image_6992.jpg</td>\n",
       "      <td>[False, False, False, False, False, False, Fal...</td>\n",
       "    </tr>\n",
       "  </tbody>\n",
       "</table>\n",
       "<p>6992 rows × 2 columns</p>\n",
       "</div>"
      ],
      "text/plain": [
       "                Name                                             Arrays\n",
       "0        image_1.jpg  [False, False, False, False, False, False, Fal...\n",
       "1111    image_2.jpeg  [False, False, False, False, False, False, Fal...\n",
       "2222     image_3.JPG  [False, False, False, False, False, False, Fal...\n",
       "3333     image_4.png  [False, False, False, False, False, False, Fal...\n",
       "4444     image_5.png  [False, False, False, False, False, False, Fal...\n",
       "...              ...                                                ...\n",
       "6653  image_6988.jpg  [False, False, False, False, False, False, Fal...\n",
       "6654  image_6989.jpg  [False, False, False, False, False, False, Fal...\n",
       "6656  image_6990.png  [False, False, False, False, False, False, Fal...\n",
       "6657  image_6991.jpg  [False, False, False, False, False, False, Fal...\n",
       "6658  image_6992.jpg  [False, False, False, False, False, False, Fal...\n",
       "\n",
       "[6992 rows x 2 columns]"
      ]
     },
     "execution_count": 139,
     "metadata": {},
     "output_type": "execute_result"
    }
   ],
   "source": [
    "dfImg['sort'] = dfImg['Name'].str.extract('(\\d+)', expand=False).astype(int)\n",
    "dfImg.sort_values('sort',inplace=True, ascending=True)\n",
    "dfImg = dfImg.drop('sort', axis=1)\n",
    "dfImg"
   ]
  },
  {
   "cell_type": "code",
   "execution_count": 140,
   "id": "cb524b22",
   "metadata": {},
   "outputs": [
    {
     "data": {
      "text/html": [
       "<div>\n",
       "<style scoped>\n",
       "    .dataframe tbody tr th:only-of-type {\n",
       "        vertical-align: middle;\n",
       "    }\n",
       "\n",
       "    .dataframe tbody tr th {\n",
       "        vertical-align: top;\n",
       "    }\n",
       "\n",
       "    .dataframe thead th {\n",
       "        text-align: right;\n",
       "    }\n",
       "</style>\n",
       "<table border=\"1\" class=\"dataframe\">\n",
       "  <thead>\n",
       "    <tr style=\"text-align: right;\">\n",
       "      <th></th>\n",
       "      <th>Name</th>\n",
       "      <th>Arrays</th>\n",
       "    </tr>\n",
       "  </thead>\n",
       "  <tbody>\n",
       "    <tr>\n",
       "      <th>0</th>\n",
       "      <td>image_1.jpg</td>\n",
       "      <td>[False, False, False, False, False, False, Fal...</td>\n",
       "    </tr>\n",
       "    <tr>\n",
       "      <th>1111</th>\n",
       "      <td>image_2.jpeg</td>\n",
       "      <td>[False, False, False, False, False, False, Fal...</td>\n",
       "    </tr>\n",
       "    <tr>\n",
       "      <th>2222</th>\n",
       "      <td>image_3.JPG</td>\n",
       "      <td>[False, False, False, False, False, False, Fal...</td>\n",
       "    </tr>\n",
       "    <tr>\n",
       "      <th>3333</th>\n",
       "      <td>image_4.png</td>\n",
       "      <td>[False, False, False, False, False, False, Fal...</td>\n",
       "    </tr>\n",
       "    <tr>\n",
       "      <th>4444</th>\n",
       "      <td>image_5.png</td>\n",
       "      <td>[False, False, False, False, False, False, Fal...</td>\n",
       "    </tr>\n",
       "    <tr>\n",
       "      <th>...</th>\n",
       "      <td>...</td>\n",
       "      <td>...</td>\n",
       "    </tr>\n",
       "    <tr>\n",
       "      <th>6653</th>\n",
       "      <td>image_6988.jpg</td>\n",
       "      <td>[False, False, False, False, False, False, Fal...</td>\n",
       "    </tr>\n",
       "    <tr>\n",
       "      <th>6654</th>\n",
       "      <td>image_6989.jpg</td>\n",
       "      <td>[False, False, False, False, False, False, Fal...</td>\n",
       "    </tr>\n",
       "    <tr>\n",
       "      <th>6656</th>\n",
       "      <td>image_6990.png</td>\n",
       "      <td>[False, False, False, False, False, False, Fal...</td>\n",
       "    </tr>\n",
       "    <tr>\n",
       "      <th>6657</th>\n",
       "      <td>image_6991.jpg</td>\n",
       "      <td>[False, False, False, False, False, False, Fal...</td>\n",
       "    </tr>\n",
       "    <tr>\n",
       "      <th>6658</th>\n",
       "      <td>image_6992.jpg</td>\n",
       "      <td>[False, False, False, False, False, False, Fal...</td>\n",
       "    </tr>\n",
       "  </tbody>\n",
       "</table>\n",
       "<p>6992 rows × 2 columns</p>\n",
       "</div>"
      ],
      "text/plain": [
       "                Name                                             Arrays\n",
       "0        image_1.jpg  [False, False, False, False, False, False, Fal...\n",
       "1111    image_2.jpeg  [False, False, False, False, False, False, Fal...\n",
       "2222     image_3.JPG  [False, False, False, False, False, False, Fal...\n",
       "3333     image_4.png  [False, False, False, False, False, False, Fal...\n",
       "4444     image_5.png  [False, False, False, False, False, False, Fal...\n",
       "...              ...                                                ...\n",
       "6653  image_6988.jpg  [False, False, False, False, False, False, Fal...\n",
       "6654  image_6989.jpg  [False, False, False, False, False, False, Fal...\n",
       "6656  image_6990.png  [False, False, False, False, False, False, Fal...\n",
       "6657  image_6991.jpg  [False, False, False, False, False, False, Fal...\n",
       "6658  image_6992.jpg  [False, False, False, False, False, False, Fal...\n",
       "\n",
       "[6992 rows x 2 columns]"
      ]
     },
     "execution_count": 140,
     "metadata": {},
     "output_type": "execute_result"
    }
   ],
   "source": [
    "dfImg"
   ]
  },
  {
   "cell_type": "code",
   "execution_count": null,
   "id": "f779ce9f",
   "metadata": {},
   "outputs": [],
   "source": []
  },
  {
   "cell_type": "code",
   "execution_count": 141,
   "id": "b42796fb",
   "metadata": {},
   "outputs": [
    {
     "data": {
      "text/plain": [
       "7262"
      ]
     },
     "execution_count": 141,
     "metadata": {},
     "output_type": "execute_result"
    }
   ],
   "source": [
    "lb=newDF['overall_sentiment'].astype(str)\n",
    "l={'very_positive':1,'positive':1,'very_negative':-1,'negative':-1, 'neutral':0}\n",
    "y2=lb.map(l)\n",
    "len(y2)"
   ]
  },
  {
   "cell_type": "code",
   "execution_count": 142,
   "id": "53522be2",
   "metadata": {},
   "outputs": [],
   "source": [
    "newImg=[]\n",
    "for i in dfImg.index:\n",
    "    newImg.append(dfImg['Arrays'].loc[i])"
   ]
  },
  {
   "cell_type": "code",
   "execution_count": null,
   "id": "fb6e94d6",
   "metadata": {},
   "outputs": [],
   "source": []
  },
  {
   "cell_type": "code",
   "execution_count": 143,
   "id": "49e2695c",
   "metadata": {},
   "outputs": [],
   "source": [
    "change=[]\n",
    "nn=newDF['ImageName'].astype(str)\n",
    "ee=newDF['overall_sentiment'].astype(str)\n",
    "for i in range (0,3049):\n",
    "    if ee[i]=='negative' or ee[i]=='very_negative':\n",
    "        change.append(nn[i])"
   ]
  },
  {
   "cell_type": "code",
   "execution_count": null,
   "id": "5d6a19ee",
   "metadata": {},
   "outputs": [],
   "source": []
  },
  {
   "cell_type": "code",
   "execution_count": 144,
   "id": "1d721979",
   "metadata": {},
   "outputs": [],
   "source": [
    "path=(r\"E:\\final project\\images\\\\\")"
   ]
  },
  {
   "cell_type": "code",
   "execution_count": 145,
   "id": "0cae884e",
   "metadata": {},
   "outputs": [],
   "source": [
    "for i in range(0,len(change)):\n",
    "    a=imread(path+change[i], as_gray=True)\n",
    "    a=np.flipud(a)\n",
    "    a=resize(a,(150,150))\n",
    "    a=feature.canny(a)\n",
    "    a=list(a.flatten())\n",
    "    newImg.append(a)\n",
    "    "
   ]
  },
  {
   "cell_type": "code",
   "execution_count": null,
   "id": "590940a3",
   "metadata": {},
   "outputs": [],
   "source": []
  },
  {
   "cell_type": "code",
   "execution_count": 9,
   "id": "2a3f61a2",
   "metadata": {},
   "outputs": [
    {
     "data": {
      "text/plain": [
       "7262"
      ]
     },
     "execution_count": 9,
     "metadata": {},
     "output_type": "execute_result"
    }
   ],
   "source": [
    "lb=newDF['overall_sentiment'].astype(str)\n",
    "l={'very_positive':1,'positive':1,'very_negative':-1,'negative':-1, 'neutral':0}\n",
    "y2=lb.map(l)\n",
    "len(y2)"
   ]
  },
  {
   "cell_type": "code",
   "execution_count": null,
   "id": "6b7a1761",
   "metadata": {},
   "outputs": [],
   "source": []
  },
  {
   "cell_type": "code",
   "execution_count": null,
   "id": "3be5c433",
   "metadata": {},
   "outputs": [],
   "source": []
  },
  {
   "cell_type": "code",
   "execution_count": null,
   "id": "d07211ef",
   "metadata": {},
   "outputs": [],
   "source": []
  },
  {
   "cell_type": "code",
   "execution_count": 6,
   "id": "765f3b64",
   "metadata": {},
   "outputs": [],
   "source": [
    "newFile=open(r\"E:\\CannyImages2.pkl\", 'rb')\n",
    "dataImg2=pickle.load(newFile)\n",
    "newFile.close()"
   ]
  },
  {
   "cell_type": "code",
   "execution_count": 7,
   "id": "355d9d74",
   "metadata": {},
   "outputs": [],
   "source": [
    "newFile=open(r\"E:\\CannyImages.pkl\", 'rb')\n",
    "dataImg=pickle.load(newFile)\n",
    "newFile.close()"
   ]
  },
  {
   "cell_type": "code",
   "execution_count": null,
   "id": "8f24f333",
   "metadata": {},
   "outputs": [],
   "source": []
  },
  {
   "cell_type": "code",
   "execution_count": null,
   "id": "872d2b71",
   "metadata": {},
   "outputs": [],
   "source": []
  },
  {
   "cell_type": "code",
   "execution_count": null,
   "id": "dcb60021",
   "metadata": {},
   "outputs": [],
   "source": []
  },
  {
   "cell_type": "code",
   "execution_count": 10,
   "id": "c0970ebf",
   "metadata": {},
   "outputs": [],
   "source": [
    "X_train, X_test, y_train, y_test =train_test_split(dataImg2, y2, test_size=0.2, random_state=30,shuffle=True)"
   ]
  },
  {
   "cell_type": "code",
   "execution_count": 77,
   "id": "0a8a9615",
   "metadata": {},
   "outputs": [],
   "source": [
    "from sklearn.svm import SVC\n",
    "clf=SVC(gamma='auto')\n",
    "clf= clf.fit(X_train, y_train)"
   ]
  },
  {
   "cell_type": "code",
   "execution_count": 79,
   "id": "f27618d6",
   "metadata": {},
   "outputs": [],
   "source": [
    "pred3=clf.predict(X_test)"
   ]
  },
  {
   "cell_type": "code",
   "execution_count": 80,
   "id": "b17f7f83",
   "metadata": {},
   "outputs": [
    {
     "name": "stdout",
     "output_type": "stream",
     "text": [
      "[[ 50   0 123]\n",
      " [  0   0 427]\n",
      " [  0   0 853]]\n",
      "Accuracy :  62.14728148657949\n",
      "Report : \n",
      "               precision    recall  f1-score   support\n",
      "\n",
      "          -1       1.00      0.29      0.45       173\n",
      "           0       0.00      0.00      0.00       427\n",
      "           1       0.61      1.00      0.76       853\n",
      "\n",
      "    accuracy                           0.62      1453\n",
      "   macro avg       0.54      0.43      0.40      1453\n",
      "weighted avg       0.48      0.62      0.50      1453\n",
      "\n",
      "F1 Score :  40.154538901080265\n"
     ]
    }
   ],
   "source": [
    "from sklearn.metrics import confusion_matrix\n",
    "from sklearn.metrics import accuracy_score\n",
    "from sklearn.metrics import f1_score\n",
    "from sklearn.metrics import classification_report \n",
    "print(confusion_matrix(y_test,pred3))\n",
    "print (\"Accuracy : \" , accuracy_score(y_test,pred3)*100)  \n",
    "print(\"Report : \\n\", classification_report(y_test, pred3))\n",
    "print(\"F1 Score : \",f1_score(y_test, pred3, average='macro')*100)"
   ]
  },
  {
   "cell_type": "code",
   "execution_count": 82,
   "id": "6b606c96",
   "metadata": {},
   "outputs": [],
   "source": []
  },
  {
   "cell_type": "code",
   "execution_count": 84,
   "id": "a0ccac7b",
   "metadata": {},
   "outputs": [],
   "source": [
    "import pickle\n",
    "Pkl_Filename = r\"E:\\Pickle_SVM_Model.pkl\"  \n",
    "with open(Pkl_Filename, 'rb') as file:  \n",
    "    clf7= pickle.load(file)"
   ]
  },
  {
   "cell_type": "code",
   "execution_count": 85,
   "id": "134bb6ba",
   "metadata": {},
   "outputs": [],
   "source": []
  },
  {
   "cell_type": "code",
   "execution_count": 87,
   "id": "d3adaf19",
   "metadata": {},
   "outputs": [],
   "source": []
  },
  {
   "cell_type": "code",
   "execution_count": 88,
   "id": "5c20daa7",
   "metadata": {},
   "outputs": [],
   "source": [
    "import pickle\n",
    "Pkl_Filename = r\"E:\\Pickle_SVM_Model_Pred.pkl\"  \n",
    "\n",
    "with open(Pkl_Filename, 'rb') as file:  \n",
    "    pred5= pickle.load(file)"
   ]
  },
  {
   "cell_type": "code",
   "execution_count": null,
   "id": "af598fc0",
   "metadata": {},
   "outputs": [],
   "source": [
    "\n"
   ]
  },
  {
   "cell_type": "code",
   "execution_count": 89,
   "id": "74ab6241",
   "metadata": {},
   "outputs": [
    {
     "name": "stdout",
     "output_type": "stream",
     "text": [
      "Accuracy :  62.14728148657949\n",
      "Report : \n",
      "               precision    recall  f1-score   support\n",
      "\n",
      "          -1       1.00      0.29      0.45       173\n",
      "           0       0.00      0.00      0.00       427\n",
      "           1       0.61      1.00      0.76       853\n",
      "\n",
      "    accuracy                           0.62      1453\n",
      "   macro avg       0.54      0.43      0.40      1453\n",
      "weighted avg       0.48      0.62      0.50      1453\n",
      "\n",
      "F1 Score :  40.154538901080265\n"
     ]
    }
   ],
   "source": [
    "from sklearn.metrics import confusion_matrix\n",
    "from sklearn.metrics import accuracy_score\n",
    "from sklearn.metrics import f1_score\n",
    "from sklearn.metrics import classification_report \n",
    "print (\"Accuracy : \" , accuracy_score(y_test,pred5)*100)  \n",
    "print(\"Report : \\n\", classification_report(y_test, pred5))\n",
    "print(\"F1 Score : \",f1_score(y_test, pred5, average='macro')*100)"
   ]
  },
  {
   "cell_type": "code",
   "execution_count": 117,
   "id": "176ab666",
   "metadata": {},
   "outputs": [],
   "source": [
    "from sklearn.ensemble import RandomForestClassifier, AdaBoostClassifier"
   ]
  },
  {
   "cell_type": "code",
   "execution_count": 118,
   "id": "67f67630",
   "metadata": {},
   "outputs": [],
   "source": [
    "clf6=RandomForestClassifier()\n",
    "clf6= clf6.fit(X_train, y_train)"
   ]
  },
  {
   "cell_type": "code",
   "execution_count": 119,
   "id": "c6b522d0",
   "metadata": {},
   "outputs": [],
   "source": [
    "pred6=clf6.predict(X_test)"
   ]
  },
  {
   "cell_type": "code",
   "execution_count": null,
   "id": "5ba86f87",
   "metadata": {},
   "outputs": [],
   "source": []
  },
  {
   "cell_type": "code",
   "execution_count": 120,
   "id": "a7bd0a1a",
   "metadata": {},
   "outputs": [
    {
     "name": "stdout",
     "output_type": "stream",
     "text": [
      "Accuracy :  62.14728148657949\n",
      "Report : \n",
      "               precision    recall  f1-score   support\n",
      "\n",
      "          -1       1.00      0.29      0.45       173\n",
      "           0       0.00      0.00      0.00       427\n",
      "           1       0.61      1.00      0.76       853\n",
      "\n",
      "    accuracy                           0.62      1453\n",
      "   macro avg       0.54      0.43      0.40      1453\n",
      "weighted avg       0.48      0.62      0.50      1453\n",
      "\n",
      "F1 Score :  40.154538901080265\n"
     ]
    }
   ],
   "source": [
    "from sklearn.metrics import confusion_matrix\n",
    "from sklearn.metrics import accuracy_score\n",
    "from sklearn.metrics import f1_score\n",
    "from sklearn.metrics import classification_report \n",
    "print (\"Accuracy : \" , accuracy_score(y_test,pred6)*100)  \n",
    "print(\"Report : \\n\", classification_report(y_test, pred6))\n",
    "print(\"F1 Score : \",f1_score(y_test, pred6, average='macro')*100)"
   ]
  },
  {
   "cell_type": "code",
   "execution_count": 125,
   "id": "1867d631",
   "metadata": {},
   "outputs": [],
   "source": [
    "import pickle\n",
    "Pkl_Filename = r\"E:\\Pickle_FTER_Model.pkl\"  \n",
    "\n",
    "with open(Pkl_Filename, 'wb') as file:  \n",
    "    pickle.dump(clf6,file)"
   ]
  },
  {
   "cell_type": "code",
   "execution_count": 126,
   "id": "6823b931",
   "metadata": {},
   "outputs": [],
   "source": [
    "import pickle\n",
    "Pkl_Filename = r\"E:\\Pickle_FTER_Model_Pred.pkl\"  \n",
    "\n",
    "with open(Pkl_Filename, 'wb') as file:  \n",
    "    pickle.dump(pred6,file)"
   ]
  },
  {
   "cell_type": "code",
   "execution_count": 11,
   "id": "722c3df3",
   "metadata": {},
   "outputs": [],
   "source": [
    "from sklearn.ensemble import AdaBoostClassifier"
   ]
  },
  {
   "cell_type": "code",
   "execution_count": 12,
   "id": "ee2f752d",
   "metadata": {},
   "outputs": [],
   "source": [
    "clf12=AdaBoostClassifier()\n"
   ]
  },
  {
   "cell_type": "code",
   "execution_count": 13,
   "id": "5c80e8ca",
   "metadata": {},
   "outputs": [
    {
     "data": {
      "text/plain": [
       "AdaBoostClassifier()"
      ]
     },
     "execution_count": 13,
     "metadata": {},
     "output_type": "execute_result"
    }
   ],
   "source": [
    "clf12.fit(X_train,y_train)"
   ]
  },
  {
   "cell_type": "code",
   "execution_count": 14,
   "id": "44b34942",
   "metadata": {},
   "outputs": [],
   "source": [
    "pred12=clf12.predict(X_test)"
   ]
  },
  {
   "cell_type": "code",
   "execution_count": 15,
   "id": "e9c452f1",
   "metadata": {},
   "outputs": [
    {
     "name": "stdout",
     "output_type": "stream",
     "text": [
      "Accuracy :  62.14728148657949\n",
      "Report : \n",
      "               precision    recall  f1-score   support\n",
      "\n",
      "          -1       1.00      0.29      0.45       173\n",
      "           0       0.00      0.00      0.00       427\n",
      "           1       0.61      1.00      0.76       853\n",
      "\n",
      "    accuracy                           0.62      1453\n",
      "   macro avg       0.54      0.43      0.40      1453\n",
      "weighted avg       0.48      0.62      0.50      1453\n",
      "\n",
      "F1 Score :  40.154538901080265\n"
     ]
    }
   ],
   "source": [
    "from sklearn.metrics import confusion_matrix\n",
    "from sklearn.metrics import accuracy_score\n",
    "from sklearn.metrics import f1_score\n",
    "from sklearn.metrics import classification_report \n",
    "print (\"Accuracy : \" , accuracy_score(y_test,pred12)*100)  \n",
    "print(\"Report : \\n\", classification_report(y_test, pred12))\n",
    "print(\"F1 Score : \",f1_score(y_test, pred12, average='macro')*100)"
   ]
  },
  {
   "cell_type": "code",
   "execution_count": 16,
   "id": "765f1952",
   "metadata": {},
   "outputs": [],
   "source": [
    "import pickle\n",
    "Pkl_Filename = r\"E:\\Pickle_ADA_Model.pkl\"  \n",
    "\n",
    "with open(Pkl_Filename, 'wb') as file:  \n",
    "    pickle.dump(clf12,file)"
   ]
  },
  {
   "cell_type": "code",
   "execution_count": 17,
   "id": "30c15273",
   "metadata": {},
   "outputs": [],
   "source": [
    "from sklearn.ensemble import VotingClassifier\n",
    "Pkl_Filename=r\"C:\\Users\\hp\\Desktop\\Pickle_DT_Model.pkl\"\n",
    "with open(Pkl_Filename, 'rb') as file:  \n",
    "    DecT = pickle.load(file)\n",
    "    \n",
    "Pkl_Filename=r\"C:\\Users\\hp\\Desktop\\Pickle_KNN_Model.pkl\"\n",
    "with open(Pkl_Filename, 'rb') as file:  \n",
    "    knn = pickle.load(file)\n",
    "    \n",
    "Pkl_Filename=r\"C:\\Users\\hp\\Desktop\\Pickle_LR_Model.pkl\"\n",
    "with open(Pkl_Filename, 'rb') as file:  \n",
    "    lr = pickle.load(file)    \n",
    "\n",
    "\n",
    "Pkl_Filename = r\"E:\\Pickle_ADA_Model.pkl\"  \n",
    "with open(Pkl_Filename, 'rb') as file:  \n",
    "    ada=pickle.load(file)\n",
    "    \n",
    "\n",
    "Pkl_Filename = r\"E:\\Pickle_FTER_Model.pkl\"  \n",
    "with open(Pkl_Filename, 'rb') as file:  \n",
    "    ftr=pickle.load(file)\n",
    "\n",
    "Pkl_Filename = r\"E:\\Pickle_SVM_Model.pkl\"  \n",
    "with open(Pkl_Filename, 'rb') as file:  \n",
    "    SVM= pickle.load(file)"
   ]
  },
  {
   "cell_type": "code",
   "execution_count": 21,
   "id": "36121965",
   "metadata": {},
   "outputs": [],
   "source": [
    "total= VotingClassifier(estimators=[('d',DecT), ('k',knn), ('l',lr),('a',ada),('f',ftr),('s',SVM)])"
   ]
  },
  {
   "cell_type": "code",
   "execution_count": 22,
   "id": "fe41f6c5",
   "metadata": {},
   "outputs": [],
   "source": [
    "total.fit(X_train, y_train)\n",
    "pred = total.predict(X_test)"
   ]
  },
  {
   "cell_type": "code",
   "execution_count": 24,
   "id": "0f2c9ade",
   "metadata": {},
   "outputs": [
    {
     "name": "stdout",
     "output_type": "stream",
     "text": [
      "F1 Score :  40.154538901080265\n"
     ]
    }
   ],
   "source": [
    "print(\"F1 Score : \",f1_score(y_test, pred, average='macro')*100)"
   ]
  },
  {
   "cell_type": "code",
   "execution_count": 25,
   "id": "78fa9084",
   "metadata": {},
   "outputs": [],
   "source": [
    "Pkl_Filename = r\"E:\\Pickle_VC_Model.pkl\"  \n",
    "with open(Pkl_Filename, 'wb') as file:  \n",
    "    pickle.dump(total,file)\n",
    "\n",
    "    \n",
    "Pkl_Filename = r\"E:\\Pickle_VC_Model_Pred.pkl\"  \n",
    "with open(Pkl_Filename, 'wb') as file:  \n",
    "    pickle.dump(pred,file)"
   ]
  },
  {
   "cell_type": "code",
   "execution_count": 26,
   "id": "2205a333",
   "metadata": {},
   "outputs": [],
   "source": [
    "Pkl_Filename = r\"E:\\Pickle_VC_Model.pkl\"  \n",
    "with open(Pkl_Filename, 'rb') as file:  \n",
    "    T= pickle.load(file)\n",
    "\n",
    "    \n",
    "Pkl_Filename = r\"E:\\Pickle_VC_Model_Pred.pkl\"  \n",
    "with open(Pkl_Filename, 'rb') as file:  \n",
    "    o= pickle.load(file)"
   ]
  },
  {
   "cell_type": "code",
   "execution_count": 27,
   "id": "fc708a37",
   "metadata": {},
   "outputs": [
    {
     "name": "stdout",
     "output_type": "stream",
     "text": [
      "F1 Score :  40.154538901080265\n"
     ]
    }
   ],
   "source": [
    "print(\"F1 Score : \",f1_score(y_test, o, average='macro')*100)"
   ]
  },
  {
   "cell_type": "code",
   "execution_count": null,
   "id": "eaa0ce93",
   "metadata": {},
   "outputs": [],
   "source": []
  }
 ],
 "metadata": {
  "kernelspec": {
   "display_name": "Python 3 (ipykernel)",
   "language": "python",
   "name": "python3"
  },
  "language_info": {
   "codemirror_mode": {
    "name": "ipython",
    "version": 3
   },
   "file_extension": ".py",
   "mimetype": "text/x-python",
   "name": "python",
   "nbconvert_exporter": "python",
   "pygments_lexer": "ipython3",
   "version": "3.9.12"
  }
 },
 "nbformat": 4,
 "nbformat_minor": 5
}
